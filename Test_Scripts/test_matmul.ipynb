{
 "cells": [
  {
   "cell_type": "markdown",
   "id": "5a16c686",
   "metadata": {},
   "source": [
    "ich möchte hier matrixmultiplikation von höherdimensionalen matrizen testen."
   ]
  },
  {
   "cell_type": "code",
   "execution_count": 5,
   "id": "8097f700",
   "metadata": {},
   "outputs": [],
   "source": [
    "import torch"
   ]
  },
  {
   "cell_type": "markdown",
   "id": "b03af603",
   "metadata": {},
   "source": [
    "Erstellen einer normalen matrix und eines vektors zur multiplikation"
   ]
  },
  {
   "cell_type": "code",
   "execution_count": 14,
   "id": "9f0a354d",
   "metadata": {},
   "outputs": [
    {
     "name": "stdout",
     "output_type": "stream",
     "text": [
      "Vektor: \n",
      " tensor([[1],\n",
      "        [1],\n",
      "        [1]])\n",
      "Matrix: \n",
      " tensor([[1, 2, 3],\n",
      "        [1, 2, 3],\n",
      "        [1, 2, 3]])\n",
      "Matrix * Vektor: \n",
      " tensor([[6],\n",
      "        [6],\n",
      "        [6]])\n",
      "Matrix * Vektor Shape: \n",
      " torch.Size([3, 1])\n"
     ]
    }
   ],
   "source": [
    "vec = torch.tensor([1, 1, 1])\n",
    "vec = vec.view((-1, 1))\n",
    "print('Vektor: \\n', vec)\n",
    "\n",
    "matrix = torch.tensor([[1, 2, 3], [1, 2, 3], [1, 2, 3]])\n",
    "print('Matrix: \\n', matrix)\n",
    "\n",
    "print('Matrix * Vektor: \\n', torch.matmul(matrix, vec))\n",
    "print('Matrix * Vektor Shape: \\n', torch.matmul(matrix, vec).shape)"
   ]
  },
  {
   "cell_type": "markdown",
   "id": "96bf4357",
   "metadata": {},
   "source": [
    "Nun mit einem Tensor höherer Stufe"
   ]
  },
  {
   "cell_type": "code",
   "execution_count": 7,
   "id": "9c3b0a7c",
   "metadata": {},
   "outputs": [
    {
     "name": "stdout",
     "output_type": "stream",
     "text": [
      "Vektor: \n",
      " tensor([1, 1, 1])\n",
      "Vektor Shape:  torch.Size([3])\n",
      "Matrix: \n",
      " tensor([[[1, 2, 3],\n",
      "         [1, 2, 3],\n",
      "         [1, 2, 3]],\n",
      "\n",
      "        [[1, 2, 2],\n",
      "         [1, 2, 2],\n",
      "         [1, 2, 2]]])\n",
      "Matrix Shape:  torch.Size([2, 3, 3])\n",
      "Matrix * Vektor: \n",
      " tensor([[6, 6, 6],\n",
      "        [5, 5, 5]])\n",
      "Shape:  torch.Size([2, 3])\n"
     ]
    }
   ],
   "source": [
    "vec_1 = torch.tensor([1, 1, 1])\n",
    "print('Vektor: \\n', vec_1)\n",
    "print('Vektor Shape: ', vec_1.shape)\n",
    "\n",
    "matrix_1 = torch.tensor([[[1, 2, 3], [1, 2, 3], [1, 2, 3]], [[1, 2, 2], [1, 2, 2], [1, 2, 2]]])\n",
    "print('Matrix: \\n', matrix_1)\n",
    "print('Matrix Shape: ', matrix_1.shape)\n",
    "\n",
    "erg = torch.matmul(matrix_1, vec_1)\n",
    "print('Matrix * Vektor: \\n', erg)\n",
    "print('Shape: ', erg.shape)\n"
   ]
  },
  {
   "cell_type": "code",
   "execution_count": 18,
   "id": "550ee25e",
   "metadata": {},
   "outputs": [
    {
     "name": "stdout",
     "output_type": "stream",
     "text": [
      "Vektor: \n",
      " tensor([[[1],\n",
      "         [1],\n",
      "         [1]]])\n",
      "Vektor Shape:  torch.Size([1, 3, 1])\n",
      "Matrix: \n",
      " tensor([[[1, 2, 3],\n",
      "         [1, 2, 3],\n",
      "         [1, 2, 3]],\n",
      "\n",
      "        [[1, 2, 2],\n",
      "         [1, 2, 2],\n",
      "         [1, 2, 2]]])\n",
      "Matrix Shape:  torch.Size([2, 3, 3])\n",
      "Matrix * Vektor: \n",
      " tensor([[[6],\n",
      "         [6],\n",
      "         [6]],\n",
      "\n",
      "        [[5],\n",
      "         [5],\n",
      "         [5]]])\n",
      "Shape:  torch.Size([2, 3, 1])\n"
     ]
    }
   ],
   "source": [
    "vec_2 = torch.tensor([1, 1, 1])\n",
    "vec_2 = vec_2.view(1, -1, 1)\n",
    "print('Vektor: \\n', vec_2)\n",
    "print('Vektor Shape: ', vec_2.shape)\n",
    "\n",
    "matrix_2 = torch.tensor([[[1, 2, 3], [1, 2, 3], [1, 2, 3]], [[1, 2, 2], [1, 2, 2], [1, 2, 2]]])\n",
    "print('Matrix: \\n', matrix_2)\n",
    "print('Matrix Shape: ', matrix_2.shape)\n",
    "\n",
    "erg = torch.matmul(matrix_2, vec_2)\n",
    "print('Matrix * Vektor: \\n', erg)\n",
    "print('Shape: ', erg.shape)\n"
   ]
  }
 ],
 "metadata": {
  "kernelspec": {
   "display_name": "Studienarbeit",
   "language": "python",
   "name": "python3"
  },
  "language_info": {
   "codemirror_mode": {
    "name": "ipython",
    "version": 3
   },
   "file_extension": ".py",
   "mimetype": "text/x-python",
   "name": "python",
   "nbconvert_exporter": "python",
   "pygments_lexer": "ipython3",
   "version": "3.13.2"
  }
 },
 "nbformat": 4,
 "nbformat_minor": 5
}
