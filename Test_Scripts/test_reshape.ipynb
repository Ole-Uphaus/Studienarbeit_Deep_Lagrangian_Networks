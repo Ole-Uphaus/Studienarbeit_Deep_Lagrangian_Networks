{
 "cells": [
  {
   "cell_type": "markdown",
   "id": "cf2cd289",
   "metadata": {},
   "source": [
    "In diesem Jupyter Notebook werde ich mich mit Tests rundum die reshape funktion beschäftigen."
   ]
  },
  {
   "cell_type": "code",
   "execution_count": 1,
   "id": "23d1ad2a",
   "metadata": {},
   "outputs": [],
   "source": [
    "import numpy as np\n",
    "import torch"
   ]
  },
  {
   "cell_type": "markdown",
   "id": "72725d07",
   "metadata": {},
   "source": [
    "Arrays definieren und ausgeben"
   ]
  },
  {
   "cell_type": "code",
   "execution_count": 4,
   "id": "2b3f30fe",
   "metadata": {},
   "outputs": [
    {
     "name": "stdout",
     "output_type": "stream",
     "text": [
      "Array a: \n",
      " [1 2 3 4]\n",
      "Array b: \n",
      " [[1 2]\n",
      " [3 4]]\n",
      "Array c: \n",
      " [[1 2]\n",
      " [3 4]]\n",
      "Array d: \n",
      " [[1 2 3 4]]\n"
     ]
    }
   ],
   "source": [
    "arr_a = np.array([1, 2, 3, 4])\n",
    "arr_b = np.array([[1, 2], [3, 4]])\n",
    "arr_c = np.array([[1, 2], [3, 4,]])\n",
    "arr_d = np.array([[1, 2, 3, 4]])\n",
    "\n",
    "print('Array a: \\n', arr_a)\n",
    "print('Array b: \\n', arr_b)\n",
    "print('Array c: \\n', arr_c)\n",
    "print('Array d: \\n', arr_d)"
   ]
  },
  {
   "cell_type": "markdown",
   "id": "212608a2",
   "metadata": {},
   "source": [
    "Reshape Operationen ausführen (Array a)"
   ]
  },
  {
   "cell_type": "code",
   "execution_count": 7,
   "id": "c0ee21df",
   "metadata": {},
   "outputs": [
    {
     "name": "stdout",
     "output_type": "stream",
     "text": [
      "Shape von Array a: (4,)\n",
      "Array gereshaped (-1, 1): \n",
      " [[1]\n",
      " [2]\n",
      " [3]\n",
      " [4]]\n",
      "Array gereshaped (1, -1): \n",
      " [[1 2 3 4]]\n"
     ]
    }
   ],
   "source": [
    "print('Shape von Array a:', arr_a.shape)\n",
    "print('Array gereshaped (-1, 1): \\n', arr_a.reshape((-1, 1)))\n",
    "print('Array gereshaped (1, -1): \\n', arr_a.reshape((1, -1)))"
   ]
  },
  {
   "cell_type": "markdown",
   "id": "fda76073",
   "metadata": {},
   "source": [
    "Rehape Operationen ausführen (Array b)"
   ]
  },
  {
   "cell_type": "code",
   "execution_count": 14,
   "id": "b9040b10",
   "metadata": {},
   "outputs": [
    {
     "name": "stdout",
     "output_type": "stream",
     "text": [
      "Shape von Array b: (2, 2)\n",
      "Array gereshaped (-1,): \n",
      " [1 2 3 4]\n",
      "Array gereshaped (-1, 1): \n",
      " [[1]\n",
      " [2]\n",
      " [3]\n",
      " [4]]\n",
      "Array gereshaped (-1, 2): \n",
      " [[1 2]\n",
      " [3 4]]\n"
     ]
    }
   ],
   "source": [
    "print('Shape von Array b:', arr_b.shape)\n",
    "print('Array gereshaped (-1,): \\n', arr_b.reshape((-1, )))\n",
    "print('Array gereshaped (-1, 1): \\n', arr_b.reshape((-1, 1)))\n",
    "print('Array gereshaped (-1, 2): \\n', arr_b.reshape((-1, 2)))"
   ]
  },
  {
   "cell_type": "markdown",
   "id": "f78df996",
   "metadata": {},
   "source": [
    "Torch Tensor definieren"
   ]
  },
  {
   "cell_type": "code",
   "execution_count": 16,
   "id": "40025f61",
   "metadata": {},
   "outputs": [
    {
     "name": "stdout",
     "output_type": "stream",
     "text": [
      "Array e: \n",
      " tensor([1, 2, 3, 4])\n"
     ]
    }
   ],
   "source": [
    "arr_e = torch.asarray([1, 2, 3, 4])\n",
    "print('Array e: \\n', arr_e)"
   ]
  },
  {
   "cell_type": "markdown",
   "id": "13811bdd",
   "metadata": {},
   "source": [
    "Reshape Operationen ausführen (view bei torch)"
   ]
  },
  {
   "cell_type": "code",
   "execution_count": 21,
   "id": "6c149881",
   "metadata": {},
   "outputs": [
    {
     "name": "stdout",
     "output_type": "stream",
     "text": [
      "Shape von Tensor: torch.Size([4])\n",
      "Tensor view(-1, 2): \n",
      " tensor([[1, 2],\n",
      "        [3, 4]])\n",
      "Tensor view(-1, 1): \n",
      " tensor([[1],\n",
      "        [2],\n",
      "        [3],\n",
      "        [4]])\n"
     ]
    }
   ],
   "source": [
    "print('Shape von Tensor:', arr_e.size())\n",
    "print('Tensor view(-1, 2): \\n', arr_e.view((-1, 2)))\n",
    "print('Tensor view(-1, 1): \\n', arr_e.view((-1, 1)))"
   ]
  }
 ],
 "metadata": {
  "kernelspec": {
   "display_name": "Studienarbeit",
   "language": "python",
   "name": "python3"
  },
  "language_info": {
   "codemirror_mode": {
    "name": "ipython",
    "version": 3
   },
   "file_extension": ".py",
   "mimetype": "text/x-python",
   "name": "python",
   "nbconvert_exporter": "python",
   "pygments_lexer": "ipython3",
   "version": "3.13.2"
  }
 },
 "nbformat": 4,
 "nbformat_minor": 5
}
