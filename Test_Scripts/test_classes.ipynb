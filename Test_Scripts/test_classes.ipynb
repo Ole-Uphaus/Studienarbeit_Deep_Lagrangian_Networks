{
 "cells": [
  {
   "cell_type": "markdown",
   "id": "3ad17120",
   "metadata": {},
   "source": [
    "In diesem Jupyter Notebook werde ich die erstellung und den Umgang mit Klassen üben."
   ]
  },
  {
   "cell_type": "code",
   "execution_count": 1,
   "id": "e1a5b919",
   "metadata": {},
   "outputs": [],
   "source": [
    "import numpy as np"
   ]
  },
  {
   "cell_type": "markdown",
   "id": "d855cb12",
   "metadata": {},
   "source": [
    "Hauptklasse Fahrzeug definieren und erste Objekte erstellen"
   ]
  },
  {
   "cell_type": "code",
   "execution_count": 5,
   "id": "635bd66d",
   "metadata": {},
   "outputs": [
    {
     "name": "stdout",
     "output_type": "stream",
     "text": [
      "Fahrzeug der Marke CAT wurde erstellt.\n",
      "Die Marke des Fahrzeuges lautet CAT\n",
      "\n",
      "Fahrzeug der Marke BMW wurde erstellt.\n",
      "Die Marke des Fahrzeuges lautet BMW\n"
     ]
    }
   ],
   "source": [
    "class Fahrzeug:\n",
    "    def __init__(self, marke):\n",
    "        self.marke = marke\n",
    "        print(f\"Fahrzeug der Marke {self.marke} wurde erstellt.\")\n",
    "\n",
    "    def info(self):\n",
    "        print(f\"Die Marke des Fahrzeuges lautet {self.marke}\")\n",
    "\n",
    "Bagger = Fahrzeug(\"CAT\")\n",
    "Bagger.info()\n",
    "print()\n",
    "\n",
    "Auto = Fahrzeug(\"BMW\")\n",
    "Auto.info()"
   ]
  },
  {
   "cell_type": "markdown",
   "id": "5aef73ff",
   "metadata": {},
   "source": [
    "Erstellung einer neuen Klasse Auto, die von Fahrzeug erbt. Außerdem wird ein objekt der neuen Klasse erstellt. \n",
    "\n",
    "Wichtig: \n",
    "    - Es ist erkennbar, dass bei der Vererbung beide Initialisierungsfunktionen (Elternklasse, Kind-Klasse ausgeführt werden)\n",
    "    - Die init()-Methode wird bei der Vererbung überschrieben"
   ]
  },
  {
   "cell_type": "code",
   "execution_count": 8,
   "id": "84a62d98",
   "metadata": {},
   "outputs": [
    {
     "name": "stdout",
     "output_type": "stream",
     "text": [
      "Fahrzeug der Marke VW wurde erstellt.\n",
      "Auto-Modell Golf wurde erstellt.\n",
      "Das modell des Fahrzeugs lautet Golf\n"
     ]
    }
   ],
   "source": [
    "class Auto(Fahrzeug):\n",
    "    def __init__(self, marke, modell):\n",
    "        # Hier wird der Konstruktor der Elternklasse aufgerufen\n",
    "        super(Auto, self).__init__(marke)\n",
    "        self.modell = modell\n",
    "        print(f\"Auto-Modell {self.modell} wurde erstellt.\")\n",
    "\n",
    "    def info(self):\n",
    "        print(f\"Das modell des Fahrzeugs lautet {self.modell}\")\n",
    "\n",
    "VW = Auto(marke=\"VW\", modell=\"Golf\")\n",
    "VW.info()"
   ]
  }
 ],
 "metadata": {
  "kernelspec": {
   "display_name": "Studienarbeit",
   "language": "python",
   "name": "python3"
  },
  "language_info": {
   "codemirror_mode": {
    "name": "ipython",
    "version": 3
   },
   "file_extension": ".py",
   "mimetype": "text/x-python",
   "name": "python",
   "nbconvert_exporter": "python",
   "pygments_lexer": "ipython3",
   "version": "3.13.2"
  }
 },
 "nbformat": 4,
 "nbformat_minor": 5
}
