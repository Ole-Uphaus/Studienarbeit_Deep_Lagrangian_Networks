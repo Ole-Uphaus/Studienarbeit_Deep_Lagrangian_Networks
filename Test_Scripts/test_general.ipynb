{
 "cells": [
  {
   "cell_type": "markdown",
   "id": "e67ac72f",
   "metadata": {},
   "source": [
    "Test Untere Dreiecksmatrix"
   ]
  },
  {
   "cell_type": "code",
   "execution_count": 1,
   "id": "08e506d2",
   "metadata": {},
   "outputs": [],
   "source": [
    "import numpy as np"
   ]
  },
  {
   "cell_type": "markdown",
   "id": "4eab2fd3",
   "metadata": {},
   "source": [
    "Test arctan"
   ]
  },
  {
   "cell_type": "code",
   "execution_count": 7,
   "id": "7f70dcf0",
   "metadata": {},
   "outputs": [
    {
     "name": "stdout",
     "output_type": "stream",
     "text": [
      "135.0\n"
     ]
    }
   ],
   "source": [
    "x = -1.\n",
    "y = 1.\n",
    "\n",
    "erg = np.arctan2(y, x)\n",
    "print(erg/np.pi*180)"
   ]
  }
 ],
 "metadata": {
  "kernelspec": {
   "display_name": "Studienarbeit",
   "language": "python",
   "name": "python3"
  },
  "language_info": {
   "codemirror_mode": {
    "name": "ipython",
    "version": 3
   },
   "file_extension": ".py",
   "mimetype": "text/x-python",
   "name": "python",
   "nbconvert_exporter": "python",
   "pygments_lexer": "ipython3",
   "version": "3.13.2"
  }
 },
 "nbformat": 4,
 "nbformat_minor": 5
}
