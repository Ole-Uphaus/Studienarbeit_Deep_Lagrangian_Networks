{
 "cells": [
  {
   "cell_type": "markdown",
   "id": "e67ac72f",
   "metadata": {},
   "source": [
    "Test Untere Dreiecksmatrix"
   ]
  },
  {
   "cell_type": "code",
   "execution_count": null,
   "id": "08e506d2",
   "metadata": {},
   "outputs": [],
   "source": [
    "import numpy as np"
   ]
  }
 ],
 "metadata": {
  "kernelspec": {
   "display_name": "Studienarbeit",
   "language": "python",
   "name": "python3"
  },
  "language_info": {
   "name": "python",
   "version": "3.13.2"
  }
 },
 "nbformat": 4,
 "nbformat_minor": 5
}
