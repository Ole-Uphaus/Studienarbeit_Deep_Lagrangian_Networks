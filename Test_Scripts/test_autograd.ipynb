{
 "cells": [
  {
   "cell_type": "markdown",
   "id": "21f43c0c",
   "metadata": {},
   "source": [
    "In diesem Notebook möchte ich die autograd funktion von pytorch anhand eines kleinen Netzwerkes testen."
   ]
  },
  {
   "cell_type": "code",
   "execution_count": 59,
   "id": "c54cb940",
   "metadata": {},
   "outputs": [],
   "source": [
    "import numpy as np\n",
    "import torch\n",
    "import torch.nn as nn"
   ]
  },
  {
   "cell_type": "markdown",
   "id": "afebebca",
   "metadata": {},
   "source": [
    "Erstellung des einfachen Netzwerkes"
   ]
  },
  {
   "cell_type": "code",
   "execution_count": 60,
   "id": "1258cca6",
   "metadata": {},
   "outputs": [],
   "source": [
    "class SimpleNN(nn.Module):\n",
    "    def __init__(self):\n",
    "        super(SimpleNN, self).__init__()\n",
    "        # Schichten festlegen\n",
    "        self.Layer_1 = nn.Linear(3, 16)\n",
    "        self.Output_Layer = nn.Linear(16, 2)\n",
    "\n",
    "    def forward(self, x):\n",
    "        x = self.Layer_1(x)\n",
    "        x = self.Output_Layer(x)\n",
    "\n",
    "        return x\n",
    "\n",
    "test_network = SimpleNN()"
   ]
  },
  {
   "cell_type": "markdown",
   "id": "447336eb",
   "metadata": {},
   "source": [
    "Ein paar einfache werte austesten (mit Gradientenverfolgung des Eingangs)"
   ]
  },
  {
   "cell_type": "code",
   "execution_count": 61,
   "id": "a02779f4",
   "metadata": {},
   "outputs": [
    {
     "name": "stdout",
     "output_type": "stream",
     "text": [
      "Test Input: \n",
      " tensor([1.0000, 2.0000, 1.5000], requires_grad=True)\n",
      "Ergebnis: \n",
      " tensor([0.4049, 0.2036], grad_fn=<ViewBackward0>)\n"
     ]
    }
   ],
   "source": [
    "test_input = torch.tensor([1, 2, 1.5], dtype=torch.float32, requires_grad=True)\n",
    "print('Test Input: \\n', test_input)\n",
    "test_output = test_network(test_input)\n",
    "\n",
    "print('Ergebnis: \\n', test_output)"
   ]
  },
  {
   "cell_type": "markdown",
   "id": "27673e79",
   "metadata": {},
   "source": [
    "Gradienten bezüglich der Eingangsgrößen berechnen (man kann den Gradienten nur bezüglich einer skalaren Ausgangsgröße berechnen)"
   ]
  },
  {
   "cell_type": "code",
   "execution_count": 62,
   "id": "4e44868e",
   "metadata": {},
   "outputs": [
    {
     "name": "stdout",
     "output_type": "stream",
     "text": [
      "Gradient des Ersten Ausgangselements bezüglich des Eingangsvektors: \n",
      " tensor([-0.2494,  0.2780,  0.4141])\n",
      "Gradient des Zweiten Ausgangselements bezüglich des Eingangsvektors: \n",
      " tensor([-0.5291,  0.4410,  0.5632])\n"
     ]
    }
   ],
   "source": [
    "test_output[0].backward(retain_graph=True)\n",
    "print('Gradient des Ersten Ausgangselements bezüglich des Eingangsvektors: \\n', test_input.grad)\n",
    "test_output[1].backward()\n",
    "print('Gradient des Zweiten Ausgangselements bezüglich des Eingangsvektors: \\n', test_input.grad)"
   ]
  }
 ],
 "metadata": {
  "kernelspec": {
   "display_name": "Studienarbeit",
   "language": "python",
   "name": "python3"
  },
  "language_info": {
   "codemirror_mode": {
    "name": "ipython",
    "version": 3
   },
   "file_extension": ".py",
   "mimetype": "text/x-python",
   "name": "python",
   "nbconvert_exporter": "python",
   "pygments_lexer": "ipython3",
   "version": "3.13.2"
  }
 },
 "nbformat": 4,
 "nbformat_minor": 5
}
