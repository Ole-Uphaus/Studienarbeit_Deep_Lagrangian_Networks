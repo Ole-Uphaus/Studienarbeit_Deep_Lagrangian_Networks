{
 "cells": [
  {
   "cell_type": "code",
   "execution_count": 14,
   "id": "2a192476",
   "metadata": {},
   "outputs": [],
   "source": [
    "import torch"
   ]
  },
  {
   "cell_type": "markdown",
   "id": "c92fa154",
   "metadata": {},
   "source": [
    "Nutzung von Einsum (einsteinsche Summenkonvention)"
   ]
  },
  {
   "cell_type": "code",
   "execution_count": 15,
   "id": "ba13bfe6",
   "metadata": {},
   "outputs": [
    {
     "name": "stdout",
     "output_type": "stream",
     "text": [
      "Vektor: \n",
      " tensor([[1, 2],\n",
      "        [0, 0]])\n",
      "Vektor Shape:  torch.Size([2, 2])\n",
      "Vektor: \n",
      " tensor([[1, 0],\n",
      "        [0, 1]])\n",
      "Vektor Shape:  torch.Size([2, 2])\n",
      "Matrix * Vektor: \n",
      " tensor([[1, 2],\n",
      "        [0, 0]])\n",
      "Shape:  torch.Size([2, 2])\n"
     ]
    }
   ],
   "source": [
    "# Matrixmultiplikation\n",
    "mat = torch.tensor([[1, 2], [0, 0]])\n",
    "print('Vektor: \\n', mat)\n",
    "print('Vektor Shape: ', mat.shape)\n",
    "\n",
    "matrix = torch.tensor([[1, 0], [0, 1]])\n",
    "print('Vektor: \\n', matrix)\n",
    "print('Vektor Shape: ', matrix.shape)\n",
    "\n",
    "erg = torch.einsum('ij,jk->ik', matrix, mat)\n",
    "print('Matrix * Vektor: \\n', erg)\n",
    "print('Shape: ', erg.shape)"
   ]
  },
  {
   "cell_type": "code",
   "execution_count": 16,
   "id": "febb7c65",
   "metadata": {},
   "outputs": [
    {
     "name": "stdout",
     "output_type": "stream",
     "text": [
      "Vektor: \n",
      " tensor([[[1, 2],\n",
      "         [0, 0]],\n",
      "\n",
      "        [[0, 0],\n",
      "         [1, 2]]])\n",
      "Vektor Shape:  torch.Size([2, 2, 2])\n",
      "Vektor: \n",
      " tensor([[[1, 0],\n",
      "         [0, 1]],\n",
      "\n",
      "        [[1, 0],\n",
      "         [0, 1]]])\n",
      "Vektor Shape:  torch.Size([2, 2, 2])\n",
      "Matrix * Vektor: \n",
      " tensor([[[1, 2],\n",
      "         [0, 0]],\n",
      "\n",
      "        [[0, 0],\n",
      "         [1, 2]]])\n",
      "Shape:  torch.Size([2, 2, 2])\n"
     ]
    }
   ],
   "source": [
    "# Batch Matrixmultiplikation\n",
    "mat = torch.tensor([[[1, 2], [0, 0]], [[0, 0], [1, 2]]])\n",
    "print('Vektor: \\n', mat)\n",
    "print('Vektor Shape: ', mat.shape)\n",
    "\n",
    "matrix = torch.tensor([[[1, 0], [0, 1]], [[1, 0], [0, 1]]])\n",
    "print('Vektor: \\n', matrix)\n",
    "print('Vektor Shape: ', matrix.shape)\n",
    "\n",
    "erg = torch.einsum('bij,bjk->bik', matrix, mat)\n",
    "print('Matrix * Vektor: \\n', erg)\n",
    "print('Shape: ', erg.shape)"
   ]
  },
  {
   "cell_type": "code",
   "execution_count": 17,
   "id": "9336707c",
   "metadata": {},
   "outputs": [
    {
     "name": "stdout",
     "output_type": "stream",
     "text": [
      "Vektor: \n",
      " tensor([[1, 2],\n",
      "        [0, 0]])\n",
      "Vektor Shape:  torch.Size([2, 2])\n",
      "Vektor: \n",
      " tensor([[[1, 0],\n",
      "         [0, 1]],\n",
      "\n",
      "        [[1, 0],\n",
      "         [0, 1]]])\n",
      "Vektor Shape:  torch.Size([2, 2, 2])\n",
      "Matrix * Vektor: \n",
      " tensor([[[1, 2],\n",
      "         [0, 0]],\n",
      "\n",
      "        [[1, 2],\n",
      "         [0, 0]]])\n",
      "Shape:  torch.Size([2, 2, 2])\n"
     ]
    }
   ],
   "source": [
    "# Batch Matrixmultiplikation (wenn nur eine matrix als batch vorliegt)\n",
    "mat = torch.tensor([[1, 2], [0, 0]])\n",
    "print('Vektor: \\n', mat)\n",
    "print('Vektor Shape: ', mat.shape)\n",
    "\n",
    "matrix = torch.tensor([[[1, 0], [0, 1]], [[1, 0], [0, 1]]])\n",
    "print('Vektor: \\n', matrix)\n",
    "print('Vektor Shape: ', matrix.shape)\n",
    "\n",
    "erg = torch.einsum('bij,jk->bik', matrix, mat)\n",
    "print('Matrix * Vektor: \\n', erg)\n",
    "print('Shape: ', erg.shape)"
   ]
  },
  {
   "cell_type": "code",
   "execution_count": 19,
   "id": "20859e7b",
   "metadata": {},
   "outputs": [
    {
     "name": "stdout",
     "output_type": "stream",
     "text": [
      "Vektor: \n",
      " tensor([[1, 1],\n",
      "        [0, 0]])\n",
      "Vektor Shape:  torch.Size([2, 2])\n",
      "Vektor: \n",
      " tensor([[[[1, 1],\n",
      "          [1, 1],\n",
      "          [1, 1]],\n",
      "\n",
      "         [[0, 0],\n",
      "          [0, 0],\n",
      "          [0, 0]],\n",
      "\n",
      "         [[0, 0],\n",
      "          [0, 0],\n",
      "          [0, 0]]],\n",
      "\n",
      "\n",
      "        [[[1, 1],\n",
      "          [1, 1],\n",
      "          [1, 1]],\n",
      "\n",
      "         [[0, 0],\n",
      "          [0, 0],\n",
      "          [0, 0]],\n",
      "\n",
      "         [[0, 0],\n",
      "          [0, 0],\n",
      "          [0, 0]]]])\n",
      "Vektor Shape:  torch.Size([2, 3, 3, 2])\n",
      "Matrix * Vektor: \n",
      " tensor([[[2, 2, 2],\n",
      "         [0, 0, 0],\n",
      "         [0, 0, 0]],\n",
      "\n",
      "        [[0, 0, 0],\n",
      "         [0, 0, 0],\n",
      "         [0, 0, 0]]])\n",
      "Shape:  torch.Size([2, 3, 3])\n"
     ]
    }
   ],
   "source": [
    "# DeLaN L_dt berechnen (L_dq * qd)\n",
    "mat = torch.tensor([[1, 1],\n",
    "                    [0, 0]])\n",
    "print('Vektor: \\n', mat)\n",
    "print('Vektor Shape: ', mat.shape)\n",
    "\n",
    "matrix = torch.tensor([[[[1, 1], [1, 1], [1, 1]], [[0, 0], [0, 0], [0, 0]], [[0, 0], [0, 0], [0, 0]]],\n",
    "                    [[[1, 1], [1, 1], [1, 1]], [[0, 0], [0, 0], [0, 0]], [[0, 0], [0, 0], [0, 0]]]])\n",
    "print('Vektor: \\n', matrix)\n",
    "print('Vektor Shape: ', matrix.shape)\n",
    "\n",
    "erg = torch.einsum('bijk,bk->bij', matrix, mat)\n",
    "print('Matrix * Vektor: \\n', erg)\n",
    "print('Shape: ', erg.shape)"
   ]
  },
  {
   "cell_type": "code",
   "execution_count": 24,
   "id": "ed21ba5c",
   "metadata": {},
   "outputs": [
    {
     "name": "stdout",
     "output_type": "stream",
     "text": [
      "Vektor: \n",
      " tensor([[[1, 2, 3],\n",
      "         [1, 1, 1],\n",
      "         [0, 0, 0]],\n",
      "\n",
      "        [[0, 0, 0],\n",
      "         [1, 1, 1],\n",
      "         [0, 0, 0]]])\n",
      "Vektor Shape:  torch.Size([2, 3, 3])\n",
      "Vektor: \n",
      " tensor([[[[1, 2],\n",
      "          [1, 2],\n",
      "          [1, 2]],\n",
      "\n",
      "         [[0, 0],\n",
      "          [0, 0],\n",
      "          [0, 0]],\n",
      "\n",
      "         [[0, 0],\n",
      "          [0, 0],\n",
      "          [0, 0]]],\n",
      "\n",
      "\n",
      "        [[[0, 0],\n",
      "          [0, 0],\n",
      "          [0, 0]],\n",
      "\n",
      "         [[1, 2],\n",
      "          [1, 2],\n",
      "          [1, 2]],\n",
      "\n",
      "         [[0, 0],\n",
      "          [0, 0],\n",
      "          [0, 0]]]])\n",
      "Vektor Shape:  torch.Size([2, 3, 3, 2])\n",
      "Matrix * Vektor: \n",
      " tensor([[[[2, 4],\n",
      "          [3, 6],\n",
      "          [4, 8]],\n",
      "\n",
      "         [[0, 0],\n",
      "          [0, 0],\n",
      "          [0, 0]],\n",
      "\n",
      "         [[0, 0],\n",
      "          [0, 0],\n",
      "          [0, 0]]],\n",
      "\n",
      "\n",
      "        [[[0, 0],\n",
      "          [0, 0],\n",
      "          [0, 0]],\n",
      "\n",
      "         [[1, 2],\n",
      "          [1, 2],\n",
      "          [1, 2]],\n",
      "\n",
      "         [[0, 0],\n",
      "          [0, 0],\n",
      "          [0, 0]]]])\n",
      "Shape:  torch.Size([2, 3, 3, 2])\n"
     ]
    }
   ],
   "source": [
    "# DeLaN H_dq berechnen (L_dq * LT + ...)\n",
    "mat = torch.tensor([[[1, 2, 3], [1, 1, 1], [0, 0, 0]],\n",
    "                    [[0, 0, 0], [1, 1, 1], [0, 0, 0]]])\n",
    "print('Vektor: \\n', mat)\n",
    "print('Vektor Shape: ', mat.shape)\n",
    "\n",
    "matrix = torch.tensor([[[[1, 2], [1, 2], [1, 2]], [[0, 0], [0, 0], [0, 0]], [[0, 0], [0, 0], [0, 0]]],\n",
    "                    [[[0, 0], [0, 0], [0, 0]], [[1, 2], [1, 2], [1, 2]], [[0, 0], [0, 0], [0, 0]]]])\n",
    "print('Vektor: \\n', matrix)\n",
    "print('Vektor Shape: ', matrix.shape)\n",
    "\n",
    "erg = torch.einsum('bijc,bjk->bikc', matrix, mat)\n",
    "print('Matrix * Vektor: \\n', erg)\n",
    "print('Shape: ', erg.shape)"
   ]
  }
 ],
 "metadata": {
  "kernelspec": {
   "display_name": "Studienarbeit",
   "language": "python",
   "name": "python3"
  },
  "language_info": {
   "codemirror_mode": {
    "name": "ipython",
    "version": 3
   },
   "file_extension": ".py",
   "mimetype": "text/x-python",
   "name": "python",
   "nbconvert_exporter": "python",
   "pygments_lexer": "ipython3",
   "version": "3.13.2"
  }
 },
 "nbformat": 4,
 "nbformat_minor": 5
}
